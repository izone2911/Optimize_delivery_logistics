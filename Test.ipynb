{
 "cells": [
  {
   "cell_type": "markdown",
   "metadata": {},
   "source": [
    "num_locations   num_vehicles\n",
    "\n",
    "1->num_vehicles:   cost/unit of distance in range: 1->50\n",
    "\n",
    "1->num_locations:\n",
    "    x y time_window(min)\n",
    "    x,y : int\n",
    "    time_window in range: 30->200\n",
    "\n",
    "Giả sử mỗi đơn vị khoảng cách đi 1min"
   ]
  },
  {
   "cell_type": "code",
   "execution_count": 2,
   "metadata": {},
   "outputs": [],
   "source": [
    "import random\n",
    "import math"
   ]
  },
  {
   "cell_type": "code",
   "execution_count": 10,
   "metadata": {},
   "outputs": [],
   "source": [
    "def generate_test(num_locations, num_vehicles, test_index):\n",
    "    locations = []\n",
    "    for _ in range(num_locations):\n",
    "        x = random.randint(-200, 200)\n",
    "        y = random.randint(-200, 200) \n",
    "        distance = math.sqrt(x*x+y*y)\n",
    "        z = random.randint(int(distance*2), int(distance)*3*(int)(num_locations/num_vehicles+1))\n",
    "        locations += [(x,y,z)]\n",
    "    cost = [random.randint(1,20) for _ in range(num_vehicles)]\n",
    "\n",
    "    with open(f'./Test/{num_locations}_{num_vehicles}_{test_index}.inp', 'w') as f:\n",
    "        f.write(f'{num_locations} ')\n",
    "        f.write(f'{num_vehicles}\\n')\n",
    "        for _ in range(num_vehicles):\n",
    "            f.write(f'{cost[_]}\\n')\n",
    "        for location in locations:\n",
    "            f.write(f'{location[0]} {location[1]} {location[2]}\\n')\n",
    "\n",
    "for i in range(10):\n",
    "    generate_test(100,3,i)\n",
    "for i in range(10):\n",
    "    generate_test(100,5,i)\n",
    "for i in range(10):\n",
    "    generate_test(100,7,i)"
   ]
  }
 ],
 "metadata": {
  "kernelspec": {
   "display_name": "Python 3",
   "language": "python",
   "name": "python3"
  },
  "language_info": {
   "codemirror_mode": {
    "name": "ipython",
    "version": 3
   },
   "file_extension": ".py",
   "mimetype": "text/x-python",
   "name": "python",
   "nbconvert_exporter": "python",
   "pygments_lexer": "ipython3",
   "version": "3.11.9"
  }
 },
 "nbformat": 4,
 "nbformat_minor": 2
}
